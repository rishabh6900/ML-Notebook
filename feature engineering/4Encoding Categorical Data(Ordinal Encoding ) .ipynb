{
 "cells": [
  {
   "cell_type": "markdown",
   "metadata": {},
   "source": [
    "          data\n",
    "          /   \\\n",
    "         /     \\\n",
    "        Num     Categ\n",
    "             /    \\\n",
    "            /      \\\n",
    "           /        \\\n",
    "           Nominal   Ordinal"
   ]
  },
  {
   "cell_type": "markdown",
   "metadata": {},
   "source": [
    "Examples of Nominal Data:\n",
    "\n",
    "Colors: Red, Blue, Green\n",
    "\n",
    "Gender: Male, Female, Other\n",
    "\n",
    "Car Brands: Toyota, BMW, Tesla"
   ]
  },
  {
   "cell_type": "markdown",
   "metadata": {},
   "source": [
    "Examples of Ordinal Data:\n",
    "\n",
    "Education Level: High School, Undergraduate, Graduate, Doctorate\n",
    "\n",
    "Survey Ratings: Poor, Fair, Good, Very Good, Excellent\n",
    "\n",
    "Socioeconomic Status: Low, Middle, High\n",
    "\n",
    "Customer Satisfaction: Very Unsatisfied, Unsatisfied, Neutral, Satisfied, Very Satisfied"
   ]
  },
  {
   "cell_type": "markdown",
   "metadata": {},
   "source": [
    "How to encod Categorical data ?"
   ]
  },
  {
   "cell_type": "markdown",
   "metadata": {},
   "source": [
    "1. Ordinal Encoding \n",
    "2. One-hot encodeing (uesing Nomial data)"
   ]
  },
  {
   "cell_type": "markdown",
   "metadata": {},
   "source": [
    "## Label Encoding"
   ]
  },
  {
   "cell_type": "markdown",
   "metadata": {},
   "source": [
    "Label Encoding is a technique used to convert categorical data into numerical form. In this method, each category in a column is assigned a unique numerical value, making it suitable for use in machine learning algorithms that require numerical inputs.\n",
    "Original Categorical Data (Colors):\n",
    "\n",
    "Color    |       After Label Encoding\n",
    " \n",
    "Red      |             1\n",
    "\n",
    "Green    |              2\n",
    "\n",
    "Blue     |              0\n",
    "\n",
    "Red      |              1\n",
    "\n",
    "Blue     |              0\n"
   ]
  }
 ],
 "metadata": {
  "language_info": {
   "name": "python"
  }
 },
 "nbformat": 4,
 "nbformat_minor": 2
}
